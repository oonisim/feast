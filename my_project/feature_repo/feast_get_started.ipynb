{
 "cells": [
  {
   "cell_type": "markdown",
   "id": "4b1a0486-95a2-4d04-bbb2-b21db57416ea",
   "metadata": {},
   "source": [
    "# FEAST Get Started\n",
    "\n",
    "* [FEAST Quickstart](https://docs.feast.dev/getting-started/quickstart)\n",
    "\n",
    "Same with [quickstart.ipynb](https://github.com/feast-dev/feast/blob/master/examples/quickstart/quickstart.ipynb)."
   ]
  },
  {
   "cell_type": "markdown",
   "id": "c11a4034-17e5-4d15-88da-ffbd6869e659",
   "metadata": {},
   "source": [
    "# Data"
   ]
  },
  {
   "cell_type": "code",
   "execution_count": 34,
   "id": "19d4136f-6d46-4bbf-8ed5-7ee00ab63404",
   "metadata": {},
   "outputs": [],
   "source": [
    "import subprocess\n",
    "from datetime import datetime\n",
    "\n",
    "import pandas as pd\n",
    "\n",
    "from feast import FeatureStore\n",
    "from feast.data_source import PushMode\n",
    "\n",
    "pd.set_option('display.max_columns', None)\n",
    "pd.set_option('display.max_rows', None)"
   ]
  },
  {
   "cell_type": "code",
   "execution_count": 26,
   "id": "2c4cd1d5-5285-49d3-9f65-eef9e8024b80",
   "metadata": {},
   "outputs": [
    {
     "name": "stdout",
     "output_type": "stream",
     "text": [
      "<class 'pandas.core.frame.DataFrame'>\n",
      "RangeIndex: 1807 entries, 0 to 1806\n",
      "Data columns (total 6 columns):\n",
      " #   Column           Non-Null Count  Dtype              \n",
      "---  ------           --------------  -----              \n",
      " 0   event_timestamp  1807 non-null   datetime64[ns, UTC]\n",
      " 1   driver_id        1807 non-null   int64              \n",
      " 2   conv_rate        1807 non-null   float32            \n",
      " 3   acc_rate         1807 non-null   float32            \n",
      " 4   avg_daily_trips  1807 non-null   int32              \n",
      " 5   created          1807 non-null   datetime64[us]     \n",
      "dtypes: datetime64[ns, UTC](1), datetime64[us](1), float32(2), int32(1), int64(1)\n",
      "memory usage: 63.7 KB\n",
      "None\n"
     ]
    },
    {
     "data": {
      "text/html": [
       "<div>\n",
       "<style scoped>\n",
       "    .dataframe tbody tr th:only-of-type {\n",
       "        vertical-align: middle;\n",
       "    }\n",
       "\n",
       "    .dataframe tbody tr th {\n",
       "        vertical-align: top;\n",
       "    }\n",
       "\n",
       "    .dataframe thead th {\n",
       "        text-align: right;\n",
       "    }\n",
       "</style>\n",
       "<table border=\"1\" class=\"dataframe\">\n",
       "  <thead>\n",
       "    <tr style=\"text-align: right;\">\n",
       "      <th></th>\n",
       "      <th>event_timestamp</th>\n",
       "      <th>driver_id</th>\n",
       "      <th>conv_rate</th>\n",
       "      <th>acc_rate</th>\n",
       "      <th>avg_daily_trips</th>\n",
       "      <th>created</th>\n",
       "    </tr>\n",
       "  </thead>\n",
       "  <tbody>\n",
       "    <tr>\n",
       "      <th>0</th>\n",
       "      <td>2025-07-10 12:00:00+00:00</td>\n",
       "      <td>1005</td>\n",
       "      <td>0.332461</td>\n",
       "      <td>0.624520</td>\n",
       "      <td>163</td>\n",
       "      <td>2025-07-25 12:53:26.095</td>\n",
       "    </tr>\n",
       "    <tr>\n",
       "      <th>1</th>\n",
       "      <td>2025-07-10 13:00:00+00:00</td>\n",
       "      <td>1005</td>\n",
       "      <td>0.980694</td>\n",
       "      <td>0.556470</td>\n",
       "      <td>474</td>\n",
       "      <td>2025-07-25 12:53:26.095</td>\n",
       "    </tr>\n",
       "    <tr>\n",
       "      <th>2</th>\n",
       "      <td>2025-07-10 14:00:00+00:00</td>\n",
       "      <td>1005</td>\n",
       "      <td>0.895391</td>\n",
       "      <td>0.477705</td>\n",
       "      <td>306</td>\n",
       "      <td>2025-07-25 12:53:26.095</td>\n",
       "    </tr>\n",
       "    <tr>\n",
       "      <th>3</th>\n",
       "      <td>2025-07-10 15:00:00+00:00</td>\n",
       "      <td>1005</td>\n",
       "      <td>0.802549</td>\n",
       "      <td>0.863710</td>\n",
       "      <td>352</td>\n",
       "      <td>2025-07-25 12:53:26.095</td>\n",
       "    </tr>\n",
       "    <tr>\n",
       "      <th>4</th>\n",
       "      <td>2025-07-10 16:00:00+00:00</td>\n",
       "      <td>1005</td>\n",
       "      <td>0.065515</td>\n",
       "      <td>0.091650</td>\n",
       "      <td>488</td>\n",
       "      <td>2025-07-25 12:53:26.095</td>\n",
       "    </tr>\n",
       "  </tbody>\n",
       "</table>\n",
       "</div>"
      ],
      "text/plain": [
       "            event_timestamp  driver_id  conv_rate  acc_rate  avg_daily_trips  \\\n",
       "0 2025-07-10 12:00:00+00:00       1005   0.332461  0.624520              163   \n",
       "1 2025-07-10 13:00:00+00:00       1005   0.980694  0.556470              474   \n",
       "2 2025-07-10 14:00:00+00:00       1005   0.895391  0.477705              306   \n",
       "3 2025-07-10 15:00:00+00:00       1005   0.802549  0.863710              352   \n",
       "4 2025-07-10 16:00:00+00:00       1005   0.065515  0.091650              488   \n",
       "\n",
       "                  created  \n",
       "0 2025-07-25 12:53:26.095  \n",
       "1 2025-07-25 12:53:26.095  \n",
       "2 2025-07-25 12:53:26.095  \n",
       "3 2025-07-25 12:53:26.095  \n",
       "4 2025-07-25 12:53:26.095  "
      ]
     },
     "execution_count": 26,
     "metadata": {},
     "output_type": "execute_result"
    }
   ],
   "source": [
    "driver_stats_df = pd.read_parquet(\"data/driver_stats.parquet\")\n",
    "\n",
    "print(driver_stats_df.info())\n",
    "driver_stats_df.head(5)"
   ]
  },
  {
   "cell_type": "markdown",
   "id": "cee63b29-be63-496a-9093-2ed55bf6b2b7",
   "metadata": {},
   "source": [
    "# FEAST Project"
   ]
  },
  {
   "cell_type": "code",
   "execution_count": 53,
   "id": "7abce530-1e3b-45b3-a774-15fba6c17222",
   "metadata": {},
   "outputs": [
    {
     "name": "stdout",
     "output_type": "stream",
     "text": [
      "project: my_project\n",
      "provider: local\n",
      "registry: data/registry.db\n",
      "online_store:\n",
      "  type: sqlite\n",
      "  path: data/online_store.db\n",
      "auth:\n",
      "  type: no_auth\n",
      "offline_store: dask\n",
      "batch_engine: local\n",
      "entity_key_serialization_version: 3\n",
      "\n"
     ]
    }
   ],
   "source": [
    "! feast configuration"
   ]
  },
  {
   "cell_type": "code",
   "execution_count": 54,
   "id": "25458296-ad4f-4fed-9af5-6d4132f045e3",
   "metadata": {},
   "outputs": [
    {
     "name": "stdout",
     "output_type": "stream",
     "text": [
      "/Users/oonisim/home/repository/git/FEAST/my_project/feature_repo/example_repo.py:27: DeprecationWarning: Entity value_type will be mandatory in the next release. Please specify a value_type for entity 'driver'.\n",
      "  driver = Entity(name=\"driver\", join_keys=[\"driver_id\"])\n",
      "Applying changes for project my_project\n",
      "/Users/oonisim/venv/feast/lib/python3.10/site-packages/feast/feature_store.py:583: RuntimeWarning: On demand feature view is an experimental feature. This API is stable, but the functionality does not scale well for offline retrieval\n",
      "  warnings.warn(\n",
      "Created project \u001b[1m\u001b[32mmy_project\u001b[0m\n",
      "Created entity \u001b[1m\u001b[32mdriver\u001b[0m\n",
      "Created feature view \u001b[1m\u001b[32mdriver_hourly_stats_fresh\u001b[0m\n",
      "Created feature view \u001b[1m\u001b[32mdriver_hourly_stats\u001b[0m\n",
      "Created on demand feature view \u001b[1m\u001b[32mtransformed_conv_rate\u001b[0m\n",
      "Created on demand feature view \u001b[1m\u001b[32mtransformed_conv_rate_fresh\u001b[0m\n",
      "Created feature service \u001b[1m\u001b[32mdriver_activity_v2\u001b[0m\n",
      "Created feature service \u001b[1m\u001b[32mdriver_activity_v1\u001b[0m\n",
      "Created feature service \u001b[1m\u001b[32mdriver_activity_v3\u001b[0m\n",
      "\n",
      "WARNING:root:Cannot use sqlite_vec for vector search\n",
      "WARNING:root:Cannot use sqlite_vec for vector search\n",
      "Created sqlite table \u001b[1m\u001b[32mmy_project_driver_hourly_stats_fresh\u001b[0m\n",
      "Created sqlite table \u001b[1m\u001b[32mmy_project_driver_hourly_stats\u001b[0m\n",
      "\n"
     ]
    }
   ],
   "source": [
    "! feast apply"
   ]
  },
  {
   "cell_type": "markdown",
   "id": "2258f4a3-0a8d-43eb-91ec-11e41d1a9367",
   "metadata": {},
   "source": [
    "```\n",
    "Created project my_project\n",
    "Created entity driver\n",
    "Created feature view driver_hourly_stats\n",
    "Created feature view driver_hourly_stats_fresh\n",
    "Created on demand feature view transformed_conv_rate_fresh\n",
    "Created on demand feature view transformed_conv_rate\n",
    "Created feature service driver_activity_v1\n",
    "Created feature service driver_activity_v3\n",
    "Created feature service driver_activity_v2\n",
    "\n",
    "WARNING:root:Cannot use sqlite_vec for vector search\n",
    "WARNING:root:Cannot use sqlite_vec for vector search\n",
    "Created sqlite table my_project_driver_hourly_stats_fresh\n",
    "Created sqlite table my_project_driver_hourly_stats\n",
    "```"
   ]
  },
  {
   "cell_type": "code",
   "execution_count": 55,
   "id": "c1ee3e76-ac35-4aaa-b8d9-1fa0814f637a",
   "metadata": {},
   "outputs": [
    {
     "name": "stdout",
     "output_type": "stream",
     "text": [
      "NAME                         ENTITIES    TYPE\n",
      "driver_hourly_stats_fresh    {'driver'}  FeatureView\n",
      "driver_hourly_stats          {'driver'}  FeatureView\n",
      "transformed_conv_rate        {'driver'}  OnDemandFeatureView\n",
      "transformed_conv_rate_fresh  {'driver'}  OnDemandFeatureView\n"
     ]
    }
   ],
   "source": [
    "!feast feature-views list"
   ]
  },
  {
   "cell_type": "code",
   "execution_count": 56,
   "id": "42ec80ce-50d4-474a-89ed-ad9dd494f8f3",
   "metadata": {},
   "outputs": [
    {
     "name": "stdout",
     "output_type": "stream",
     "text": [
      "NAME    DESCRIPTION    TYPE\n",
      "driver                 ValueType.UNKNOWN\n"
     ]
    }
   ],
   "source": [
    "!feast entities list"
   ]
  },
  {
   "cell_type": "markdown",
   "id": "7e8f4f00-e466-479f-98dc-ecbd36a5b354",
   "metadata": {},
   "source": [
    "---\n",
    "# Feature View\n",
    "\n",
    "Feature View is defined in ```feature_repo/example_repo.py```.\n",
    "\n",
    "\n",
    "* [Feature view](https://docs.feast.dev/master/getting-started/concepts/feature-view)\n",
    "\n",
    "> In the offline setting, Feature View is a stateless collection of features that are created when the [get_historical_features](https://rtd.feast.dev/en/master/#feast.feature_store.FeatureStore.get_historical_features) method is called.\n",
    "\n"
   ]
  },
  {
   "cell_type": "code",
   "execution_count": null,
   "id": "87714648-8b77-4d63-813e-885260c3c7f9",
   "metadata": {},
   "outputs": [],
   "source": [
    "```\n",
    "# Define an entity for the driver. You can think of an entity as a primary key used to\n",
    "# fetch features.\n",
    "driver = Entity(name=\"driver\", join_keys=[\"driver_id\"])\n",
    "\n",
    "# Read data from parquet files. Parquet is convenient for local development mode. For\n",
    "# production, you can use your favorite DWH, such as BigQuery. See Feast documentation\n",
    "# for more info.\n",
    "driver_stats_source = FileSource(\n",
    "    name=\"driver_hourly_stats_source\",\n",
    "    path=\"data/driver_stats.parquet\",\n",
    "    timestamp_field=\"event_timestamp\",\n",
    "    created_timestamp_column=\"created\",\n",
    ")\n",
    "\n",
    "# Our parquet files contain sample data that includes a driver_id column, timestamps and\n",
    "# three feature column. Here we define a Feature View that will allow us to serve this\n",
    "# data to our model online.\n",
    "driver_stats_fv = FeatureView(\n",
    "    # The unique name of this feature view. Two feature views in a single\n",
    "    # project cannot have the same name\n",
    "    name=\"driver_hourly_stats\",\n",
    "    entities=[driver],\n",
    "    ttl=timedelta(days=1),\n",
    "    # The list of features defined below act as a schema to both define features\n",
    "    # for both materialization of features into a store, and are used as references\n",
    "    # during retrieval for building a training dataset or serving features\n",
    "    schema=[\n",
    "        Field(name=\"conv_rate\", dtype=Float32),\n",
    "        Field(name=\"acc_rate\", dtype=Float32),\n",
    "        Field(name=\"avg_daily_trips\", dtype=Int64, description=\"Average daily trips\"),\n",
    "    ],\n",
    "    online=True,\n",
    "    source=driver_stats_source,\n",
    "    # Tags are user defined key/value pairs that are attached to each\n",
    "    # feature view\n",
    "    tags={\"team\": \"driver_performance\"},\n",
    ")\n",
    "```"
   ]
  },
  {
   "cell_type": "code",
   "execution_count": 50,
   "id": "da4e8bba-2d57-44e6-8acc-5ba87000f358",
   "metadata": {},
   "outputs": [
    {
     "name": "stdout",
     "output_type": "stream",
     "text": [
      "NAME                         ENTITIES    TYPE\n",
      "driver_hourly_stats          {'driver'}  FeatureView\n",
      "driver_hourly_stats_fresh    {'driver'}  FeatureView\n",
      "transformed_conv_rate_fresh  {'driver'}  OnDemandFeatureView\n",
      "transformed_conv_rate        {'driver'}  OnDemandFeatureView\n"
     ]
    }
   ],
   "source": []
  },
  {
   "cell_type": "markdown",
   "id": "1cdf864b-79df-491b-86f9-90feb14cb4a2",
   "metadata": {},
   "source": [
    "## Select Features\n",
    "\n",
    "\n",
    "\n",
    "* [get_historical_features](https://rtd.feast.dev/en/master/#feast.feature_store.FeatureStore.get_historical_features)\n",
    "\n",
    "> This method joins historical feature data from one or more feature views to an entity dataframe by using a time travel join. Each feature view is joined to the entity dataframe using all entities configured for the respective feature view.\n",
    ">\n",
    "> **Parameters**  \n",
    "> * ```entity_df```: a collection of rows containing all entity columns (e.g., driver_id) on which features need to be joined, as well as a event_timestamp column used to ensure point-in-time correctness.\n",
    "> \n",
    "> **Returns**: RetrievalJob which can be used to materialize the results.\n",
    "\n",
    "* [RetrievalJob](https://rtd.feast.dev/en/master/#feast.infra.offline_stores.offline_store.RetrievalJob)\n",
    "\n",
    "> A RetrievalJob manages the execution of a query to retrieve data from the offline store.  \n",
    "> **Methods**  \n",
    "> * [to_df](https://rtd.feast.dev/en/master/#feast.infra.offline_stores.offline_store.RetrievalJob.to_df): \n",
    "> Synchronously executes the underlying query and returns the result as a pandas dataframe. On demand transformations will be executed. "
   ]
  },
  {
   "cell_type": "code",
   "execution_count": 17,
   "id": "a8f6e46d-af84-4f6b-b2ca-f20729c7181e",
   "metadata": {},
   "outputs": [],
   "source": [
    "store = FeatureStore(repo_path=\".\")"
   ]
  },
  {
   "cell_type": "markdown",
   "id": "4cd67210-dd49-4b93-bdb0-fc3fe4b8132c",
   "metadata": {},
   "source": [
    "What is ```event_timestamp``` in ```entity_df```? There is no record in the data source that matches ```(driver_id, event_timestamp)==(1001, datetime(2021, 4, 12, 10, 59, 42))```.\n",
    "\n",
    "* [FEAST Feature Store - What is event_timestamp in entity_df parameter of FeatureStore.get_historical_features method](https://stackoverflow.com/q/79714277/4281353)"
   ]
  },
  {
   "cell_type": "code",
   "execution_count": 48,
   "id": "3ac5fde6-7148-4cdd-9e85-fcb0634b2504",
   "metadata": {},
   "outputs": [
    {
     "data": {
      "text/html": [
       "<div>\n",
       "<style scoped>\n",
       "    .dataframe tbody tr th:only-of-type {\n",
       "        vertical-align: middle;\n",
       "    }\n",
       "\n",
       "    .dataframe tbody tr th {\n",
       "        vertical-align: top;\n",
       "    }\n",
       "\n",
       "    .dataframe thead th {\n",
       "        text-align: right;\n",
       "    }\n",
       "</style>\n",
       "<table border=\"1\" class=\"dataframe\">\n",
       "  <thead>\n",
       "    <tr style=\"text-align: right;\">\n",
       "      <th></th>\n",
       "      <th>event_timestamp</th>\n",
       "      <th>driver_id</th>\n",
       "      <th>conv_rate</th>\n",
       "      <th>acc_rate</th>\n",
       "      <th>avg_daily_trips</th>\n",
       "      <th>created</th>\n",
       "    </tr>\n",
       "  </thead>\n",
       "  <tbody>\n",
       "  </tbody>\n",
       "</table>\n",
       "</div>"
      ],
      "text/plain": [
       "Empty DataFrame\n",
       "Columns: [event_timestamp, driver_id, conv_rate, acc_rate, avg_daily_trips, created]\n",
       "Index: []"
      ]
     },
     "execution_count": 48,
     "metadata": {},
     "output_type": "execute_result"
    }
   ],
   "source": [
    "driver_stats_df[\n",
    "    (driver_stats_df['driver_id'] == 1001) &\n",
    "    (driver_stats_df['event_timestamp'] == pd.to_datetime(datetime(2021, 4, 12, 10, 59, 42), utc=True))\n",
    "]"
   ]
  },
  {
   "cell_type": "code",
   "execution_count": 18,
   "id": "18c81ae8-8f06-4e75-b868-d05a3a9201a9",
   "metadata": {},
   "outputs": [],
   "source": [
    "def fetch_historical_features_entity_df(store: FeatureStore, for_batch_scoring: bool):\n",
    "    # Note: see https://docs.feast.dev/getting-started/concepts/feature-retrieval for more details on how to retrieve\n",
    "    # for all entities in the offline store instead\n",
    "    entity_df = pd.DataFrame.from_dict(\n",
    "        {\n",
    "            # entity's join key -> entity values\n",
    "            \"driver_id\": [1001, 1002, 1003],\n",
    "            # \"event_timestamp\" (reserved key) -> timestamps\n",
    "            \"event_timestamp\": [\n",
    "                datetime(2021, 4, 12, 10, 59, 42),\n",
    "                datetime(2021, 4, 12, 8, 12, 10),\n",
    "                datetime(2021, 4, 12, 16, 40, 26),\n",
    "            ],\n",
    "            # (optional) label name -> label values. Feast does not process these\n",
    "            \"label_driver_reported_satisfaction\": [1, 5, 3],\n",
    "            # values we're using for an on-demand transformation\n",
    "            \"val_to_add\": [1, 2, 3],\n",
    "            \"val_to_add_2\": [10, 20, 30],\n",
    "        }\n",
    "    )\n",
    "        # For batch scoring, we want the latest timestamps\n",
    "    if for_batch_scoring:\n",
    "        entity_df[\"event_timestamp\"] = pd.to_datetime(\"now\", utc=True)\n",
    "\n",
    "    # From the Pandas DataFrame, generate a FeatureView\n",
    "    training_df = store.get_historical_features(\n",
    "        entity_df=entity_df,\n",
    "        features=[\n",
    "            \"driver_hourly_stats:conv_rate\",\n",
    "            \"driver_hourly_stats:acc_rate\",\n",
    "            \"driver_hourly_stats:avg_daily_trips\",\n",
    "            \"transformed_conv_rate:conv_rate_plus_val1\",\n",
    "            \"transformed_conv_rate:conv_rate_plus_val2\",\n",
    "        ],\n",
    "    ).to_df()\n",
    "    return training_df"
   ]
  },
  {
   "cell_type": "code",
   "execution_count": 20,
   "id": "1445d9ce-1739-4a93-a11a-917ef55e1e53",
   "metadata": {},
   "outputs": [],
   "source": [
    "df = fetch_historical_features_entity_df(store=store, for_batch_scoring=False)"
   ]
  },
  {
   "cell_type": "code",
   "execution_count": 22,
   "id": "8e98d0ca-f2ac-476a-b12c-059d817daec9",
   "metadata": {},
   "outputs": [
    {
     "data": {
      "text/html": [
       "<div>\n",
       "<style scoped>\n",
       "    .dataframe tbody tr th:only-of-type {\n",
       "        vertical-align: middle;\n",
       "    }\n",
       "\n",
       "    .dataframe tbody tr th {\n",
       "        vertical-align: top;\n",
       "    }\n",
       "\n",
       "    .dataframe thead th {\n",
       "        text-align: right;\n",
       "    }\n",
       "</style>\n",
       "<table border=\"1\" class=\"dataframe\">\n",
       "  <thead>\n",
       "    <tr style=\"text-align: right;\">\n",
       "      <th></th>\n",
       "      <th>driver_id</th>\n",
       "      <th>event_timestamp</th>\n",
       "      <th>label_driver_reported_satisfaction</th>\n",
       "      <th>val_to_add</th>\n",
       "      <th>val_to_add_2</th>\n",
       "      <th>conv_rate</th>\n",
       "      <th>acc_rate</th>\n",
       "      <th>avg_daily_trips</th>\n",
       "      <th>conv_rate_plus_val1</th>\n",
       "      <th>conv_rate_plus_val2</th>\n",
       "    </tr>\n",
       "  </thead>\n",
       "  <tbody>\n",
       "    <tr>\n",
       "      <th>0</th>\n",
       "      <td>1001</td>\n",
       "      <td>2021-04-12 10:59:42+00:00</td>\n",
       "      <td>1</td>\n",
       "      <td>1</td>\n",
       "      <td>10</td>\n",
       "      <td>0.941475</td>\n",
       "      <td>0.381865</td>\n",
       "      <td>607</td>\n",
       "      <td>1.941475</td>\n",
       "      <td>10.941475</td>\n",
       "    </tr>\n",
       "    <tr>\n",
       "      <th>1</th>\n",
       "      <td>1002</td>\n",
       "      <td>2021-04-12 08:12:10+00:00</td>\n",
       "      <td>5</td>\n",
       "      <td>2</td>\n",
       "      <td>20</td>\n",
       "      <td>0.980638</td>\n",
       "      <td>0.508142</td>\n",
       "      <td>874</td>\n",
       "      <td>2.980638</td>\n",
       "      <td>20.980638</td>\n",
       "    </tr>\n",
       "    <tr>\n",
       "      <th>2</th>\n",
       "      <td>1003</td>\n",
       "      <td>2021-04-12 16:40:26+00:00</td>\n",
       "      <td>3</td>\n",
       "      <td>3</td>\n",
       "      <td>30</td>\n",
       "      <td>0.815404</td>\n",
       "      <td>0.601665</td>\n",
       "      <td>100</td>\n",
       "      <td>3.815404</td>\n",
       "      <td>30.815404</td>\n",
       "    </tr>\n",
       "  </tbody>\n",
       "</table>\n",
       "</div>"
      ],
      "text/plain": [
       "   driver_id           event_timestamp  label_driver_reported_satisfaction  \\\n",
       "0       1001 2021-04-12 10:59:42+00:00                                   1   \n",
       "1       1002 2021-04-12 08:12:10+00:00                                   5   \n",
       "2       1003 2021-04-12 16:40:26+00:00                                   3   \n",
       "\n",
       "   val_to_add  val_to_add_2  conv_rate  acc_rate  avg_daily_trips  \\\n",
       "0           1            10   0.941475  0.381865              607   \n",
       "1           2            20   0.980638  0.508142              874   \n",
       "2           3            30   0.815404  0.601665              100   \n",
       "\n",
       "   conv_rate_plus_val1  conv_rate_plus_val2  \n",
       "0             1.941475            10.941475  \n",
       "1             2.980638            20.980638  \n",
       "2             3.815404            30.815404  "
      ]
     },
     "execution_count": 22,
     "metadata": {},
     "output_type": "execute_result"
    }
   ],
   "source": [
    "df"
   ]
  },
  {
   "cell_type": "code",
   "execution_count": null,
   "id": "5212079e-f7fc-4112-935a-0cdf1dcb0568",
   "metadata": {},
   "outputs": [],
   "source": []
  }
 ],
 "metadata": {
  "kernelspec": {
   "display_name": "Python 3 (ipykernel)",
   "language": "python",
   "name": "python3"
  },
  "language_info": {
   "codemirror_mode": {
    "name": "ipython",
    "version": 3
   },
   "file_extension": ".py",
   "mimetype": "text/x-python",
   "name": "python",
   "nbconvert_exporter": "python",
   "pygments_lexer": "ipython3",
   "version": "3.10.10"
  }
 },
 "nbformat": 4,
 "nbformat_minor": 5
}
