{
 "cells": [
  {
   "cell_type": "markdown",
   "id": "4b1a0486-95a2-4d04-bbb2-b21db57416ea",
   "metadata": {},
   "source": [
    "# FEAST Get Started\n",
    "\n",
    "Use a sepeate VENV with FEAST related only installation. Otherwise, lots of errors e.g. [Expected 96 from C header, got 88 from PyObject](https://github.com/sinaptik-ai/pandas-ai/issues/1251).\n",
    "\n",
    "* [FEAST Quickstart](https://docs.feast.dev/getting-started/quickstart)\n",
    "* [quickstart.ipynb](https://github.com/feast-dev/feast/blob/master/examples/quickstart/quickstart.ipynb).\n",
    "\n",
    "FEAST document and samples are poorly written. Better tutorials: \n",
    "\n",
    "* [Creating a Feature Store with Feast - Part 1: Building a Local Feature Store for ML Training and Prediction](https://kedion.medium.com/creating-a-feature-store-with-feast-part-1-37c380223e2f)\n",
    "* [Creating a Feature Store with Feast - Part 2: Validating Data with Feast and Great Expectations](https://kedion.medium.com/feature-storage-for-ml-with-feast-part-2-34df1971a8d3)\n",
    "* [Creating a Feature Store with Feast - Part 3: Building An API and React App for Feast](https://kedion.medium.com/feature-storage-for-ml-with-feast-a061899fc4a2)\n",
    "\n",
    "* [Streamlining ML development with Feast](https://cloud.google.com/blog/products/databases/how-feast-feature-store-streamlines-ml-development)\n",
    "* [MLOps 03: Feast Feature Store — An In-depth Overview Experimentation and Application in Tabular data](https://medium.com/@ongxuanhong/mlops-03-feast-feature-store-an-in-depth-overview-experimentation-and-application-in-tabular-b9d1c5376483)\n",
    "\n",
    "* [Feast: The open source feature store for AI May 16, 2025](https://www.redhat.com/en/blog/feast-open-source-feature-store-ai)\n",
    "\n",
    "## Warning\n",
    "\n",
    "FEAST documentation and sample code in [FEAST Quickstart](https://docs.feast.dev/getting-started/quickstart) are poorly written with incosistencies. Do not rely but see [FEAST Quickstart](https://docs.feast.dev/getting-started/quickstart).\n"
   ]
  },
  {
   "cell_type": "code",
   "execution_count": 1,
   "id": "ccec474a-eedc-458e-aba5-530f7ef3fe38",
   "metadata": {},
   "outputs": [
    {
     "data": {
      "text/html": [
       "<style>\n",
       "table {float:left}\n",
       "</style>\n"
      ],
      "text/plain": [
       "<IPython.core.display.HTML object>"
      ]
     },
     "metadata": {},
     "output_type": "display_data"
    }
   ],
   "source": [
    "%%html\n",
    "<style>\n",
    "table {float:left}\n",
    "</style>"
   ]
  },
  {
   "cell_type": "code",
   "execution_count": 2,
   "id": "19d4136f-6d46-4bbf-8ed5-7ee00ab63404",
   "metadata": {},
   "outputs": [],
   "source": [
    "import subprocess\n",
    "from datetime import (\n",
    "    datetime,\n",
    "    timedelta\n",
    ")\n",
    "\n",
    "import pandas as pd\n",
    "from feast import (\n",
    "    Entity,\n",
    "    FeatureService,\n",
    "    FeatureView,\n",
    "    Field,\n",
    "    FileSource,\n",
    "    Project,\n",
    "    PushSource,\n",
    "    RequestSource,\n",
    ")\n",
    "from feast.feature_logging import LoggingConfig\n",
    "from feast.infra.offline_stores.file_source import FileLoggingDestination\n",
    "from feast.on_demand_feature_view import on_demand_feature_view\n",
    "from feast.types import Float32, Float64, Int64\n",
    "\n",
    "from feast import FeatureStore\n",
    "from feast.data_source import PushMode\n",
    "\n",
    "pd.set_option('display.max_columns', None)\n",
    "pd.set_option('display.max_rows', None)"
   ]
  },
  {
   "cell_type": "markdown",
   "id": "cee63b29-be63-496a-9093-2ed55bf6b2b7",
   "metadata": {},
   "source": [
    "# FEAST Project"
   ]
  },
  {
   "cell_type": "markdown",
   "id": "6ba90139-1c20-4bbe-adc3-e585ae19bd1e",
   "metadata": {},
   "source": [
    "## Create Project \n",
    "\n",
    "Like ```git init <directory>```, ```feast init <project_directory<>``` creates the blueprint or skeleton of your feature store.\n",
    "\n",
    "```\n",
    "my_project/feature_repo\n",
    "├── data\n",
    "│   └── driver_stats.parquet\n",
    "├── example_repo.py\n",
    "└── feature_store.yaml\n",
    "```\n"
   ]
  },
  {
   "cell_type": "code",
   "execution_count": 3,
   "id": "59ac47e9-a72a-40f4-9822-6d9ba471d70e",
   "metadata": {},
   "outputs": [
    {
     "name": "stdout",
     "output_type": "stream",
     "text": [
      "/Users/oonisim/home/repository/git/oonisim/feast/my_project/feature_repo\n"
     ]
    },
    {
     "name": "stderr",
     "output_type": "stream",
     "text": [
      "/Users/oonisim/venv/feast/lib/python3.10/site-packages/IPython/core/magics/osm.py:417: UserWarning: This is now an optional IPython functionality, setting dhist requires you to install the `pickleshare` library.\n",
      "  self.shell.db['dhist'] = compress_dhist(dhist)[-100:]\n"
     ]
    },
    {
     "data": {
      "text/plain": [
       "'/Users/oonisim/home/repository/git/oonisim/feast/my_project/feature_repo'"
      ]
     },
     "execution_count": 3,
     "metadata": {},
     "output_type": "execute_result"
    }
   ],
   "source": [
    "# !feast init my_project\n",
    "%cd my_project/feature_repo\n",
    "%pwd"
   ]
  },
  {
   "cell_type": "markdown",
   "id": "5f0d827a-1ced-429d-9f36-5275cb20d508",
   "metadata": {},
   "source": [
    "### Project as Namespace\n",
    "\n",
    "* [FEAST Project](https://docs.feast.dev/getting-started/concepts/project)\n",
    "\n",
    "> Projects provide complete isolation of feature stores at the infrastructure level. This is accomplished through **resource namespacing, e.g., prefixing table names with the associated project**. Each project should be considered a completely separate universe of entities and features. "
   ]
  },
  {
   "cell_type": "markdown",
   "id": "cef988b1-8f79-4ea7-b25d-3b787aa04174",
   "metadata": {},
   "source": [
    "### Project Configuration\n",
    "\n",
    "```feast configuration``` shows the project configurations defined in ```feature_store.yaml```.\n",
    "\n",
    "The following top-level configuration options exist in the feature_store.yaml file.\n",
    "\n",
    "| Item          | Description                                                                | Value                                                  |\n",
    "|---------------|----------------------------------------------------------------------------|--------------------------------------------------------|\n",
    "| project       | a namespace for the entire feature store.                                  |                                                        |\n",
    "| provider      | provider is an implementation of a feature store, like Terraform provider. | local aws gcp                                          |\n",
    "| registry      | central catalog of all feature definitions and their related metadata.     | data/registry.db s3://feast-test-s3-bucket/registry.pb |\n",
    "| online_store  | Low latency feature server implementation.                                 | ```type: dynamodb ```               |\n",
    "| offline_store | Computation Engine for Transformation and Materialisation.                 | ```type: redshift ```              |"
   ]
  },
  {
   "cell_type": "code",
   "execution_count": 4,
   "id": "7abce530-1e3b-45b3-a774-15fba6c17222",
   "metadata": {},
   "outputs": [
    {
     "name": "stdout",
     "output_type": "stream",
     "text": [
      "project: my_project\n",
      "provider: local\n",
      "registry: data/registry.db\n",
      "online_store:\n",
      "  type: sqlite\n",
      "  path: data/online_store.db\n",
      "auth:\n",
      "  type: no_auth\n",
      "offline_store:\n",
      "  type: file\n",
      "batch_engine: local\n",
      "entity_key_serialization_version: 3\n",
      "\n"
     ]
    }
   ],
   "source": [
    "! feast configuration"
   ]
  },
  {
   "cell_type": "markdown",
   "id": "9d010498-57a9-4766-b762-b9b5d3aac9b3",
   "metadata": {},
   "source": [
    "## Deploy Project\n",
    "\n"
   ]
  },
  {
   "cell_type": "code",
   "execution_count": 5,
   "id": "25458296-ad4f-4fed-9af5-6d4132f045e3",
   "metadata": {},
   "outputs": [
    {
     "name": "stdout",
     "output_type": "stream",
     "text": [
      "/Users/oonisim/home/repository/git/oonisim/feast/my_project/feature_repo/example_repo.py:27: DeprecationWarning: Entity value_type will be mandatory in the next release. Please specify a value_type for entity 'driver'.\n",
      "  driver = Entity(name=\"driver\", join_keys=[\"driver_id\"])\n",
      "Applying changes for project my_project\n",
      "Created project \u001b[1m\u001b[32mmy_project\u001b[0m\n",
      "Created entity \u001b[1m\u001b[32mdriver\u001b[0m\n",
      "Created feature view \u001b[1m\u001b[32mdriver_hourly_stats\u001b[0m\n",
      "Created feature service \u001b[1m\u001b[32mdriver_activity_v1\u001b[0m\n",
      "\n",
      "WARNING:root:Cannot use sqlite_vec for vector search\n",
      "Created sqlite table \u001b[1m\u001b[32mmy_project_driver_hourly_stats\u001b[0m\n",
      "\n"
     ]
    }
   ],
   "source": [
    "!feast teardown\n",
    "!feast apply"
   ]
  },
  {
   "cell_type": "code",
   "execution_count": 6,
   "id": "c1ee3e76-ac35-4aaa-b8d9-1fa0814f637a",
   "metadata": {},
   "outputs": [
    {
     "name": "stdout",
     "output_type": "stream",
     "text": [
      "NAME                 ENTITIES    TYPE\n",
      "driver_hourly_stats  {'driver'}  FeatureView\n"
     ]
    }
   ],
   "source": [
    "!feast feature-views list"
   ]
  },
  {
   "cell_type": "code",
   "execution_count": 7,
   "id": "42ec80ce-50d4-474a-89ed-ad9dd494f8f3",
   "metadata": {},
   "outputs": [
    {
     "name": "stdout",
     "output_type": "stream",
     "text": [
      "NAME    DESCRIPTION    TYPE\n",
      "driver                 ValueType.UNKNOWN\n"
     ]
    }
   ],
   "source": [
    "!feast entities list"
   ]
  },
  {
   "cell_type": "markdown",
   "id": "fc9f4b99-5fc0-4770-b8ba-c99c3616b41d",
   "metadata": {},
   "source": [
    "---"
   ]
  },
  {
   "cell_type": "markdown",
   "id": "2f397922-5bb0-4633-a5eb-f555eec1853b",
   "metadata": {},
   "source": [
    "# Data"
   ]
  },
  {
   "cell_type": "code",
   "execution_count": 8,
   "id": "f5ee562f-4857-4a49-b98d-10a5ca78c480",
   "metadata": {},
   "outputs": [
    {
     "name": "stdout",
     "output_type": "stream",
     "text": [
      "<class 'pandas.core.frame.DataFrame'>\n",
      "RangeIndex: 1807 entries, 0 to 1806\n",
      "Data columns (total 6 columns):\n",
      " #   Column           Non-Null Count  Dtype              \n",
      "---  ------           --------------  -----              \n",
      " 0   event_timestamp  1807 non-null   datetime64[ns, UTC]\n",
      " 1   driver_id        1807 non-null   int64              \n",
      " 2   conv_rate        1807 non-null   float32            \n",
      " 3   acc_rate         1807 non-null   float32            \n",
      " 4   avg_daily_trips  1807 non-null   int32              \n",
      " 5   created          1807 non-null   datetime64[us]     \n",
      "dtypes: datetime64[ns, UTC](1), datetime64[us](1), float32(2), int32(1), int64(1)\n",
      "memory usage: 63.7 KB\n",
      "None\n"
     ]
    },
    {
     "data": {
      "text/html": [
       "<div>\n",
       "<style scoped>\n",
       "    .dataframe tbody tr th:only-of-type {\n",
       "        vertical-align: middle;\n",
       "    }\n",
       "\n",
       "    .dataframe tbody tr th {\n",
       "        vertical-align: top;\n",
       "    }\n",
       "\n",
       "    .dataframe thead th {\n",
       "        text-align: right;\n",
       "    }\n",
       "</style>\n",
       "<table border=\"1\" class=\"dataframe\">\n",
       "  <thead>\n",
       "    <tr style=\"text-align: right;\">\n",
       "      <th></th>\n",
       "      <th>event_timestamp</th>\n",
       "      <th>driver_id</th>\n",
       "      <th>conv_rate</th>\n",
       "      <th>acc_rate</th>\n",
       "      <th>avg_daily_trips</th>\n",
       "      <th>created</th>\n",
       "    </tr>\n",
       "  </thead>\n",
       "  <tbody>\n",
       "    <tr>\n",
       "      <th>0</th>\n",
       "      <td>2025-07-22 14:00:00+00:00</td>\n",
       "      <td>1005</td>\n",
       "      <td>0.803060</td>\n",
       "      <td>0.440580</td>\n",
       "      <td>397</td>\n",
       "      <td>2025-08-06 14:28:04.645</td>\n",
       "    </tr>\n",
       "    <tr>\n",
       "      <th>1</th>\n",
       "      <td>2025-07-22 15:00:00+00:00</td>\n",
       "      <td>1005</td>\n",
       "      <td>0.247837</td>\n",
       "      <td>0.249946</td>\n",
       "      <td>313</td>\n",
       "      <td>2025-08-06 14:28:04.645</td>\n",
       "    </tr>\n",
       "    <tr>\n",
       "      <th>2</th>\n",
       "      <td>2025-07-22 16:00:00+00:00</td>\n",
       "      <td>1005</td>\n",
       "      <td>0.633390</td>\n",
       "      <td>0.618245</td>\n",
       "      <td>206</td>\n",
       "      <td>2025-08-06 14:28:04.645</td>\n",
       "    </tr>\n",
       "    <tr>\n",
       "      <th>3</th>\n",
       "      <td>2025-07-22 17:00:00+00:00</td>\n",
       "      <td>1005</td>\n",
       "      <td>0.227286</td>\n",
       "      <td>0.701076</td>\n",
       "      <td>600</td>\n",
       "      <td>2025-08-06 14:28:04.645</td>\n",
       "    </tr>\n",
       "    <tr>\n",
       "      <th>4</th>\n",
       "      <td>2025-07-22 18:00:00+00:00</td>\n",
       "      <td>1005</td>\n",
       "      <td>0.595457</td>\n",
       "      <td>0.991147</td>\n",
       "      <td>545</td>\n",
       "      <td>2025-08-06 14:28:04.645</td>\n",
       "    </tr>\n",
       "  </tbody>\n",
       "</table>\n",
       "</div>"
      ],
      "text/plain": [
       "            event_timestamp  driver_id  conv_rate  acc_rate  avg_daily_trips  \\\n",
       "0 2025-07-22 14:00:00+00:00       1005   0.803060  0.440580              397   \n",
       "1 2025-07-22 15:00:00+00:00       1005   0.247837  0.249946              313   \n",
       "2 2025-07-22 16:00:00+00:00       1005   0.633390  0.618245              206   \n",
       "3 2025-07-22 17:00:00+00:00       1005   0.227286  0.701076              600   \n",
       "4 2025-07-22 18:00:00+00:00       1005   0.595457  0.991147              545   \n",
       "\n",
       "                  created  \n",
       "0 2025-08-06 14:28:04.645  \n",
       "1 2025-08-06 14:28:04.645  \n",
       "2 2025-08-06 14:28:04.645  \n",
       "3 2025-08-06 14:28:04.645  \n",
       "4 2025-08-06 14:28:04.645  "
      ]
     },
     "execution_count": 8,
     "metadata": {},
     "output_type": "execute_result"
    }
   ],
   "source": [
    "driver_stats_df = pd.read_parquet(\"data/driver_stats.parquet\")\n",
    "\n",
    "print(driver_stats_df.info())\n",
    "driver_stats_df.head(5)"
   ]
  },
  {
   "cell_type": "markdown",
   "id": "7e8f4f00-e466-479f-98dc-ecbd36a5b354",
   "metadata": {},
   "source": [
    "---\n",
    "# Feature View\n",
    "\n",
    "The core idea of FEAST is, FEAST does NOT store the raw data but **manages how this data is accessed and interpreted**.\n",
    "\n",
    "Feature View is a separation of concern - segregate raw data storage technology and location.\n",
    "\n",
    "## Definition\n",
    "\n",
    "Feature View is defined in ```feature_repo/example_repo.py```.\n",
    "\n",
    "\n",
    "* [Feature view](https://docs.feast.dev/master/getting-started/concepts/feature-view)\n",
    "\n",
    "> In the offline setting, Feature View is a stateless collection of features that are created when the [get_historical_features](https://rtd.feast.dev/en/master/#feast.feature_store.FeatureStore.get_historical_features) method is called.\n",
    "\n"
   ]
  },
  {
   "cell_type": "markdown",
   "id": "ccff0010-3088-4627-bed5-ea1899e7a6fc",
   "metadata": {},
   "source": [
    "### Data Source (FileSource)\n",
    "\n",
    "FEAST way of Encapsulation on where the data is and how to access it."
   ]
  },
  {
   "cell_type": "raw",
   "id": "1a9449b5-7637-4683-b7df-7b024f0716d8",
   "metadata": {},
   "source": [
    "# Read data from parquet files. Parquet is convenient for local development mode. For\n",
    "# production, you can use your favorite DWH, such as BigQuery. See Feast documentation\n",
    "# for more info.\n",
    "driver_hourly_stats = FileSource(\n",
    "    name=\"driver_hourly_stats_source\",\n",
    "    path=\"data/driver_stats.parquet\",\n",
    "    timestamp_field=\"event_timestamp\",\n",
    "    created_timestamp_column=\"created\",\n",
    ")"
   ]
  },
  {
   "cell_type": "markdown",
   "id": "88459cc7-cf63-41d4-a711-0950f605d284",
   "metadata": {},
   "source": [
    "### Raw Features (FeatureView)\n",
    "\n",
    "FEAST way of selecting raw features."
   ]
  },
  {
   "cell_type": "raw",
   "id": "6c34889c-1c4e-49eb-be0b-0470d383af27",
   "metadata": {},
   "source": [
    "# Define an entity for the driver. You can think of an entity as a primary key used to\n",
    "# fetch features.\n",
    "driver = Entity(name=\"driver\", join_keys=[\"driver_id\"])\n",
    "\n",
    "# Our parquet files contain sample data that includes a driver_id column, timestamps and\n",
    "# three feature column. Here we define a Feature View that will allow us to serve this\n",
    "# data to our model online.\n",
    "driver_hourly_stats_view = FeatureView(\n",
    "    # The unique name of this feature view. Two feature views in a single\n",
    "    # project cannot have the same name\n",
    "    name=\"driver_hourly_stats\",\n",
    "    entities=[driver],\n",
    "    ttl=timedelta(days=1),\n",
    "    # The list of features defined below act as a schema to both define features\n",
    "    # for both materialization of features into a store, and are used as references\n",
    "    # during retrieval for building a training dataset or serving features\n",
    "    schema=[\n",
    "        Field(name=\"conv_rate\", dtype=Float32),\n",
    "        Field(name=\"acc_rate\", dtype=Float32),\n",
    "        Field(name=\"avg_daily_trips\", dtype=Int64, description=\"Average daily trips\"),\n",
    "    ],\n",
    "    online=True,\n",
    "    source=driver_hourly_stats,           # <--- Link to the raw data storage technology\n",
    "    # Tags are user defined key/value pairs that are attached to each\n",
    "    # feature view\n",
    "    tags={\"team\": \"driver_performance\"},\n",
    ")"
   ]
  },
  {
   "cell_type": "code",
   "execution_count": 9,
   "id": "da4e8bba-2d57-44e6-8acc-5ba87000f358",
   "metadata": {},
   "outputs": [],
   "source": [
    "#driver_hourly_stats_view"
   ]
  },
  {
   "cell_type": "markdown",
   "id": "461ce354-fe10-4f3a-877e-92280216ab6d",
   "metadata": {},
   "source": [
    "# Feature Store"
   ]
  },
  {
   "cell_type": "code",
   "execution_count": 10,
   "id": "0f9935ec-9581-4d91-87dc-a3776ec71b89",
   "metadata": {},
   "outputs": [],
   "source": [
    "feature_store = FeatureStore(repo_path=\".\")"
   ]
  },
  {
   "cell_type": "markdown",
   "id": "1cdf864b-79df-491b-86f9-90feb14cb4a2",
   "metadata": {},
   "source": [
    "## Query Columns from Offline Store\n",
    "\n",
    "* [get_historical_features](https://rtd.feast.dev/en/master/#feast.feature_store.FeatureStore.get_historical_features)\n",
    "\n",
    "> This method joins historical feature data from one or more feature views to an entity dataframe by using a time travel join. Each feature view is joined to the entity dataframe using all entities configured for the respective feature view.\n",
    ">\n",
    "> **Parameters**  \n",
    "> * ```entity_df```: a collection of rows containing all entity columns (e.g., driver_id) on which features need to be joined, as well as a event_timestamp column used to ensure point-in-time correctness.\n",
    "> \n",
    "> **Returns**: RetrievalJob which can be used to materialize the results.\n",
    "\n",
    "* [RetrievalJob](https://rtd.feast.dev/en/master/#feast.infra.offline_stores.offline_store.RetrievalJob)\n",
    "\n",
    "> A RetrievalJob manages the execution of a query to retrieve data from the offline store.  \n",
    "> **Methods**  \n",
    "> * [to_df](https://rtd.feast.dev/en/master/#feast.infra.offline_stores.offline_store.RetrievalJob.to_df): \n",
    "> Synchronously executes the underlying query and returns the result as a pandas dataframe. On demand transformations will be executed. "
   ]
  },
  {
   "cell_type": "markdown",
   "id": "4cd67210-dd49-4b93-bdb0-fc3fe4b8132c",
   "metadata": {},
   "source": [
    "What is ```event_timestamp``` in ```entity_df```? There is no record in the data source that matches ```(driver_id, event_timestamp)==(1001, datetime(2021, 4, 12, 10, 59, 42))```.\n",
    "\n",
    "* [FEAST Feature Store - What is event_timestamp in entity_df parameter of FeatureStore.get_historical_features method](https://stackoverflow.com/q/79714277/4281353)"
   ]
  },
  {
   "cell_type": "code",
   "execution_count": 11,
   "id": "5212079e-f7fc-4112-935a-0cdf1dcb0568",
   "metadata": {},
   "outputs": [],
   "source": [
    "entity_df = pd.DataFrame.from_dict(\n",
    "    {\n",
    "        \"driver_id\": [1001],\n",
    "        \"event_timestamp\": [\n",
    "            datetime(2025, 7, 22, 14, 00, 00),   # Need to be exact value match\n",
    "            #datetime.now()\n",
    "        ],\n",
    "    }\n",
    ")"
   ]
  },
  {
   "cell_type": "code",
   "execution_count": 12,
   "id": "f9bebe50-ee4f-4915-9f1f-47a15ba042fe",
   "metadata": {},
   "outputs": [],
   "source": [
    "#entity_df[\"event_timestamp\"] = pd.to_datetime(\"now\", utc=True)\n",
    "training_df = feature_store.get_historical_features(\n",
    "    entity_df=entity_df,\n",
    "    features=[\n",
    "        \"driver_hourly_stats:conv_rate\",\n",
    "        \"driver_hourly_stats:acc_rate\",\n",
    "        \"driver_hourly_stats:avg_daily_trips\",\n",
    "    ],\n",
    ").to_df()"
   ]
  },
  {
   "cell_type": "code",
   "execution_count": 13,
   "id": "f47bd8a4-5ae0-48dc-9ccf-911d7b19fdf3",
   "metadata": {},
   "outputs": [
    {
     "data": {
      "text/html": [
       "<div>\n",
       "<style scoped>\n",
       "    .dataframe tbody tr th:only-of-type {\n",
       "        vertical-align: middle;\n",
       "    }\n",
       "\n",
       "    .dataframe tbody tr th {\n",
       "        vertical-align: top;\n",
       "    }\n",
       "\n",
       "    .dataframe thead th {\n",
       "        text-align: right;\n",
       "    }\n",
       "</style>\n",
       "<table border=\"1\" class=\"dataframe\">\n",
       "  <thead>\n",
       "    <tr style=\"text-align: right;\">\n",
       "      <th></th>\n",
       "      <th>driver_id</th>\n",
       "      <th>event_timestamp</th>\n",
       "      <th>conv_rate</th>\n",
       "      <th>acc_rate</th>\n",
       "      <th>avg_daily_trips</th>\n",
       "    </tr>\n",
       "  </thead>\n",
       "  <tbody>\n",
       "    <tr>\n",
       "      <th>0</th>\n",
       "      <td>1001</td>\n",
       "      <td>2025-07-22 14:00:00+00:00</td>\n",
       "      <td>0.453962</td>\n",
       "      <td>0.325967</td>\n",
       "      <td>502</td>\n",
       "    </tr>\n",
       "  </tbody>\n",
       "</table>\n",
       "</div>"
      ],
      "text/plain": [
       "   driver_id           event_timestamp  conv_rate  acc_rate  avg_daily_trips\n",
       "0       1001 2025-07-22 14:00:00+00:00   0.453962  0.325967              502"
      ]
     },
     "execution_count": 13,
     "metadata": {},
     "output_type": "execute_result"
    }
   ],
   "source": [
    "training_df"
   ]
  },
  {
   "cell_type": "markdown",
   "id": "0a5303f2-9d42-40e6-9be0-f92f48cd8eef",
   "metadata": {},
   "source": [
    "### Use SQL as entity_df\n",
    "\n",
    "* [Example: entity SQL query for generating training data](https://docs.feast.dev/getting-started/concepts/feature-retrieval#example-entity-sql-query-for-generating-training-data)\n",
    "\n",
    "It looks the function is not implemented in FEAST. Inquiry [Feaset Slack Question](https://feastopensource.slack.com/archives/C01M2GYP0UC/p1754792525332979).\n",
    "\n",
    "```\n",
    "File feast/infra/offline_stores/file_source.py:228, in FileSource.get_table_query_string(self)\n",
    "    227 def get_table_query_string(self) -> str:\n",
    "--> 228     raise NotImplementedError\n",
    "```\n"
   ]
  },
  {
   "cell_type": "code",
   "execution_count": 17,
   "id": "46d3fc6d-5f2b-4524-99e2-59fd7fae4523",
   "metadata": {},
   "outputs": [
    {
     "ename": "NotImplementedError",
     "evalue": "",
     "output_type": "error",
     "traceback": [
      "\u001b[0;31m---------------------------------------------------------------------------\u001b[0m",
      "\u001b[0;31mNotImplementedError\u001b[0m                       Traceback (most recent call last)",
      "Cell \u001b[0;32mIn[17], line 6\u001b[0m\n\u001b[1;32m      1\u001b[0m \u001b[38;5;66;03m# SQL query for entity_df (example using DuckDB or BigQuery as the offline store)\u001b[39;00m\n\u001b[1;32m      2\u001b[0m entity_df_sql \u001b[38;5;241m=\u001b[39m \u001b[38;5;124mf\u001b[39m\u001b[38;5;124m\"\"\"\u001b[39m\n\u001b[1;32m      3\u001b[0m \u001b[38;5;124mSELECT\u001b[39m\n\u001b[1;32m      4\u001b[0m \u001b[38;5;124m    driver_id,\u001b[39m\n\u001b[1;32m      5\u001b[0m \u001b[38;5;124m    event_timestamp\u001b[39m\n\u001b[0;32m----> 6\u001b[0m \u001b[38;5;124mFROM \u001b[39m\u001b[38;5;132;01m{\u001b[39;00m\u001b[43mfeature_store\u001b[49m\u001b[38;5;241;43m.\u001b[39;49m\u001b[43mget_data_source\u001b[49m\u001b[43m(\u001b[49m\u001b[38;5;124;43m\"\u001b[39;49m\u001b[38;5;124;43mdriver_hourly_stats_source\u001b[39;49m\u001b[38;5;124;43m\"\u001b[39;49m\u001b[43m)\u001b[49m\u001b[38;5;241;43m.\u001b[39;49m\u001b[43mget_table_query_string\u001b[49m\u001b[43m(\u001b[49m\u001b[43m)\u001b[49m\u001b[38;5;132;01m}\u001b[39;00m\n\u001b[1;32m      7\u001b[0m \u001b[38;5;124mWHERE driver_id IS NOT NULL\u001b[39m\n\u001b[1;32m      8\u001b[0m \u001b[38;5;124mLIMIT 100\u001b[39m\n\u001b[1;32m      9\u001b[0m \u001b[38;5;124m\"\"\"\u001b[39m\n\u001b[1;32m     11\u001b[0m training_df \u001b[38;5;241m=\u001b[39m feature_store\u001b[38;5;241m.\u001b[39mget_historical_features(\n\u001b[1;32m     12\u001b[0m     entity_df\u001b[38;5;241m=\u001b[39mentity_df_sql,\n\u001b[1;32m     13\u001b[0m     features\u001b[38;5;241m=\u001b[39m[\n\u001b[0;32m   (...)\u001b[0m\n\u001b[1;32m     17\u001b[0m     ],\n\u001b[1;32m     18\u001b[0m )\u001b[38;5;241m.\u001b[39mto_df()\n\u001b[1;32m     20\u001b[0m \u001b[38;5;28mprint\u001b[39m(training_df\u001b[38;5;241m.\u001b[39mhead())\n",
      "File \u001b[0;32m~/venv/feast/lib/python3.10/site-packages/feast/infra/offline_stores/file_source.py:228\u001b[0m, in \u001b[0;36mFileSource.get_table_query_string\u001b[0;34m(self)\u001b[0m\n\u001b[1;32m    227\u001b[0m \u001b[38;5;28;01mdef\u001b[39;00m\u001b[38;5;250m \u001b[39m\u001b[38;5;21mget_table_query_string\u001b[39m(\u001b[38;5;28mself\u001b[39m) \u001b[38;5;241m-\u001b[39m\u001b[38;5;241m>\u001b[39m \u001b[38;5;28mstr\u001b[39m:\n\u001b[0;32m--> 228\u001b[0m     \u001b[38;5;28;01mraise\u001b[39;00m \u001b[38;5;167;01mNotImplementedError\u001b[39;00m\n",
      "\u001b[0;31mNotImplementedError\u001b[0m: "
     ]
    }
   ],
   "source": [
    "\n",
    "# SQL query for entity_df (example using DuckDB or BigQuery as the offline store)\n",
    "entity_df_sql = f\"\"\"\n",
    "SELECT\n",
    "    driver_id,\n",
    "    event_timestamp\n",
    "FROM {feature_store.get_data_source(\"driver_hourly_stats_source\").get_table_query_string()}\n",
    "WHERE driver_id IS NOT NULL\n",
    "LIMIT 100\n",
    "\"\"\"\n",
    "\n",
    "training_df = feature_store.get_historical_features(\n",
    "    entity_df=entity_df_sql,\n",
    "    features=[\n",
    "        \"driver_hourly_stats:conv_rate\",\n",
    "        \"driver_hourly_stats:acc_rate\",\n",
    "        \"driver_hourly_stats:avg_daily_trips\",\n",
    "    ],\n",
    ").to_df()\n",
    "\n",
    "print(training_df.head())\n"
   ]
  },
  {
   "cell_type": "code",
   "execution_count": null,
   "id": "a5c983f9-4340-4f52-82b7-e4b1b1e2a07b",
   "metadata": {},
   "outputs": [],
   "source": []
  },
  {
   "cell_type": "markdown",
   "id": "033d0bac-a4ab-44f3-8117-44d3d923e3bc",
   "metadata": {},
   "source": [
    "## Query Columns from Online Store"
   ]
  },
  {
   "cell_type": "code",
   "execution_count": 14,
   "id": "d1bc1a43-525b-4757-b74f-05acff7d4e54",
   "metadata": {},
   "outputs": [],
   "source": [
    "driver_stats_fs = feature_store.get_feature_service(\"driver_activity_v1\")\n",
    "\n",
    "feature_vector = feature_store.get_online_features(\n",
    "    features=driver_stats_fs,\n",
    "    entity_rows=[\n",
    "        {\n",
    "            \"driver_id\": 1001,\n",
    "        }\n",
    "    ]\n",
    ").to_df()"
   ]
  },
  {
   "cell_type": "code",
   "execution_count": 15,
   "id": "564c2357-6568-455a-905d-9f4c8f962df5",
   "metadata": {
    "jupyter": {
     "source_hidden": true
    }
   },
   "outputs": [
    {
     "data": {
      "text/html": [
       "<div>\n",
       "<style scoped>\n",
       "    .dataframe tbody tr th:only-of-type {\n",
       "        vertical-align: middle;\n",
       "    }\n",
       "\n",
       "    .dataframe tbody tr th {\n",
       "        vertical-align: top;\n",
       "    }\n",
       "\n",
       "    .dataframe thead th {\n",
       "        text-align: right;\n",
       "    }\n",
       "</style>\n",
       "<table border=\"1\" class=\"dataframe\">\n",
       "  <thead>\n",
       "    <tr style=\"text-align: right;\">\n",
       "      <th></th>\n",
       "      <th>driver_id</th>\n",
       "      <th>conv_rate</th>\n",
       "      <th>acc_rate</th>\n",
       "      <th>avg_daily_trips</th>\n",
       "    </tr>\n",
       "  </thead>\n",
       "  <tbody>\n",
       "    <tr>\n",
       "      <th>0</th>\n",
       "      <td>1001</td>\n",
       "      <td>None</td>\n",
       "      <td>None</td>\n",
       "      <td>None</td>\n",
       "    </tr>\n",
       "  </tbody>\n",
       "</table>\n",
       "</div>"
      ],
      "text/plain": [
       "   driver_id conv_rate acc_rate avg_daily_trips\n",
       "0       1001      None     None            None"
      ]
     },
     "execution_count": 15,
     "metadata": {},
     "output_type": "execute_result"
    }
   ],
   "source": [
    "feature_vector"
   ]
  }
 ],
 "metadata": {
  "kernelspec": {
   "display_name": "Python 3 (ipykernel)",
   "language": "python",
   "name": "python3"
  },
  "language_info": {
   "codemirror_mode": {
    "name": "ipython",
    "version": 3
   },
   "file_extension": ".py",
   "mimetype": "text/x-python",
   "name": "python",
   "nbconvert_exporter": "python",
   "pygments_lexer": "ipython3",
   "version": "3.10.10"
  }
 },
 "nbformat": 4,
 "nbformat_minor": 5
}
