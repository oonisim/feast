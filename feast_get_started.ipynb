{
 "cells": [
  {
   "cell_type": "markdown",
   "id": "4b1a0486-95a2-4d04-bbb2-b21db57416ea",
   "metadata": {},
   "source": [
    "# FEAST Get Started\n",
    "\n",
    "Use a sepeate VENV with FEAST related only installation. Otherwise, lots of errors e.g. [Expected 96 from C header, got 88 from PyObject](https://github.com/sinaptik-ai/pandas-ai/issues/1251).\n",
    "\n",
    "* [FEAST Quickstart](https://docs.feast.dev/getting-started/quickstart)\n",
    "\n",
    "Same with [quickstart.ipynb](https://github.com/feast-dev/feast/blob/master/examples/quickstart/quickstart.ipynb).\n",
    "\n",
    "\n",
    "## Warning\n",
    "\n",
    "FEAST documentation and sample code in [FEAST Quickstart](https://docs.feast.dev/getting-started/quickstart) are poorly written with incosistencies. Do not rely but see [FEAST Quickstart](https://docs.feast.dev/getting-started/quickstart).\n"
   ]
  },
  {
   "cell_type": "code",
   "execution_count": 1,
   "id": "ccec474a-eedc-458e-aba5-530f7ef3fe38",
   "metadata": {},
   "outputs": [
    {
     "data": {
      "text/html": [
       "<style>\n",
       "table {float:left}\n",
       "</style>\n"
      ],
      "text/plain": [
       "<IPython.core.display.HTML object>"
      ]
     },
     "metadata": {},
     "output_type": "display_data"
    }
   ],
   "source": [
    "%%html\n",
    "<style>\n",
    "table {float:left}\n",
    "</style>"
   ]
  },
  {
   "cell_type": "code",
   "execution_count": 2,
   "id": "19d4136f-6d46-4bbf-8ed5-7ee00ab63404",
   "metadata": {},
   "outputs": [],
   "source": [
    "import subprocess\n",
    "from datetime import (\n",
    "    datetime,\n",
    "    timedelta\n",
    ")\n",
    "\n",
    "import pandas as pd\n",
    "from feast import (\n",
    "    Entity,\n",
    "    FeatureService,\n",
    "    FeatureView,\n",
    "    Field,\n",
    "    FileSource,\n",
    "    Project,\n",
    "    PushSource,\n",
    "    RequestSource,\n",
    ")\n",
    "from feast.feature_logging import LoggingConfig\n",
    "from feast.infra.offline_stores.file_source import FileLoggingDestination\n",
    "from feast.on_demand_feature_view import on_demand_feature_view\n",
    "from feast.types import Float32, Float64, Int64\n",
    "\n",
    "from feast import FeatureStore\n",
    "from feast.data_source import PushMode\n",
    "\n",
    "pd.set_option('display.max_columns', None)\n",
    "pd.set_option('display.max_rows', None)"
   ]
  },
  {
   "cell_type": "markdown",
   "id": "cee63b29-be63-496a-9093-2ed55bf6b2b7",
   "metadata": {},
   "source": [
    "# FEAST Project"
   ]
  },
  {
   "cell_type": "markdown",
   "id": "6ba90139-1c20-4bbe-adc3-e585ae19bd1e",
   "metadata": {},
   "source": [
    "## Create Project \n",
    "\n",
    "Like ```git init <directory>```, ```feast init <project_directory<>``` creates the blueprint or skeleton of your feature store.\n",
    "\n",
    "```\n",
    "my_project/feature_repo\n",
    "├── data\n",
    "│   └── driver_stats.parquet\n",
    "├── example_repo.py\n",
    "└── feature_store.yaml\n",
    "```\n"
   ]
  },
  {
   "cell_type": "code",
   "execution_count": 3,
   "id": "59ac47e9-a72a-40f4-9822-6d9ba471d70e",
   "metadata": {},
   "outputs": [
    {
     "name": "stdout",
     "output_type": "stream",
     "text": [
      "/Users/oonisim/home/repository/git/oonisim/feast/my_project/feature_repo\n"
     ]
    },
    {
     "name": "stderr",
     "output_type": "stream",
     "text": [
      "/Users/oonisim/venv/feast/lib/python3.10/site-packages/IPython/core/magics/osm.py:417: UserWarning: This is now an optional IPython functionality, setting dhist requires you to install the `pickleshare` library.\n",
      "  self.shell.db['dhist'] = compress_dhist(dhist)[-100:]\n"
     ]
    },
    {
     "data": {
      "text/plain": [
       "'/Users/oonisim/home/repository/git/oonisim/feast/my_project/feature_repo'"
      ]
     },
     "execution_count": 3,
     "metadata": {},
     "output_type": "execute_result"
    }
   ],
   "source": [
    "# !feast init my_project\n",
    "%cd my_project/feature_repo\n",
    "%pwd"
   ]
  },
  {
   "cell_type": "markdown",
   "id": "5f0d827a-1ced-429d-9f36-5275cb20d508",
   "metadata": {},
   "source": [
    "### Project as Namespace\n",
    "\n",
    "* [FEAST Project](https://docs.feast.dev/getting-started/concepts/project)\n",
    "\n",
    "> Projects provide complete isolation of feature stores at the infrastructure level. This is accomplished through **resource namespacing, e.g., prefixing table names with the associated project**. Each project should be considered a completely separate universe of entities and features. "
   ]
  },
  {
   "cell_type": "markdown",
   "id": "cef988b1-8f79-4ea7-b25d-3b787aa04174",
   "metadata": {},
   "source": [
    "### Project Configuration\n",
    "\n",
    "```feast configuration``` shows the project configurations defined in ```feature_store.yaml```.\n",
    "\n",
    "The following top-level configuration options exist in the feature_store.yaml file.\n",
    "\n",
    "| Item          | Description                                                                | Value                                                  |\n",
    "|---------------|----------------------------------------------------------------------------|--------------------------------------------------------|\n",
    "| project       | a namespace for the entire feature store.                                  |                                                        |\n",
    "| provider      | provider is an implementation of a feature store, like Terraform provider. | local aws gcp                                          |\n",
    "| registry      | central catalog of all feature definitions and their related metadata.     | data/registry.db s3://feast-test-s3-bucket/registry.pb |\n",
    "| online_store  | Low latency feature server implementation.                                 | ```type: dynamodb ```               |\n",
    "| offline_store | Computation Engine for Transformation and Materialisation.                 | ```type: redshift ```              |"
   ]
  },
  {
   "cell_type": "code",
   "execution_count": 4,
   "id": "7abce530-1e3b-45b3-a774-15fba6c17222",
   "metadata": {},
   "outputs": [
    {
     "name": "stdout",
     "output_type": "stream",
     "text": [
      "project: my_project\n",
      "provider: local\n",
      "registry: data/registry.db\n",
      "online_store:\n",
      "  type: sqlite\n",
      "  path: data/online_store.db\n",
      "auth:\n",
      "  type: no_auth\n",
      "offline_store: dask\n",
      "batch_engine: local\n",
      "entity_key_serialization_version: 3\n",
      "\n"
     ]
    }
   ],
   "source": [
    "! feast configuration"
   ]
  },
  {
   "cell_type": "markdown",
   "id": "9d010498-57a9-4766-b762-b9b5d3aac9b3",
   "metadata": {},
   "source": [
    "## Deploy Project\n",
    "\n"
   ]
  },
  {
   "cell_type": "code",
   "execution_count": 5,
   "id": "25458296-ad4f-4fed-9af5-6d4132f045e3",
   "metadata": {},
   "outputs": [
    {
     "name": "stdout",
     "output_type": "stream",
     "text": [
      "/Users/oonisim/home/repository/git/oonisim/feast/my_project/feature_repo/example_repo.py:38: DeprecationWarning: Entity value_type will be mandatory in the next release. Please specify a value_type for entity 'driver'.\n",
      "  driver = Entity(name=\"driver\", join_keys=[\"driver_id\"])\n",
      "Applying changes for project my_project\n",
      "\u001b[1m\u001b[94mNo changes to registry\n",
      "\u001b[1m\u001b[94mNo changes to infrastructure\n"
     ]
    }
   ],
   "source": [
    "!feast apply"
   ]
  },
  {
   "cell_type": "code",
   "execution_count": 6,
   "id": "c1ee3e76-ac35-4aaa-b8d9-1fa0814f637a",
   "metadata": {},
   "outputs": [
    {
     "name": "stdout",
     "output_type": "stream",
     "text": [
      "NAME                 ENTITIES    TYPE\n",
      "driver_hourly_stats  {'driver'}  FeatureView\n"
     ]
    }
   ],
   "source": [
    "!feast feature-views list"
   ]
  },
  {
   "cell_type": "code",
   "execution_count": 7,
   "id": "42ec80ce-50d4-474a-89ed-ad9dd494f8f3",
   "metadata": {},
   "outputs": [
    {
     "name": "stdout",
     "output_type": "stream",
     "text": [
      "NAME    DESCRIPTION    TYPE\n",
      "driver                 ValueType.UNKNOWN\n"
     ]
    }
   ],
   "source": [
    "!feast entities list"
   ]
  },
  {
   "cell_type": "markdown",
   "id": "fc9f4b99-5fc0-4770-b8ba-c99c3616b41d",
   "metadata": {},
   "source": [
    "---"
   ]
  },
  {
   "cell_type": "markdown",
   "id": "2f397922-5bb0-4633-a5eb-f555eec1853b",
   "metadata": {},
   "source": [
    "# Data"
   ]
  },
  {
   "cell_type": "code",
   "execution_count": 8,
   "id": "f5ee562f-4857-4a49-b98d-10a5ca78c480",
   "metadata": {},
   "outputs": [
    {
     "name": "stdout",
     "output_type": "stream",
     "text": [
      "<class 'pandas.core.frame.DataFrame'>\n",
      "RangeIndex: 1807 entries, 0 to 1806\n",
      "Data columns (total 6 columns):\n",
      " #   Column           Non-Null Count  Dtype              \n",
      "---  ------           --------------  -----              \n",
      " 0   event_timestamp  1807 non-null   datetime64[ns, UTC]\n",
      " 1   driver_id        1807 non-null   int64              \n",
      " 2   conv_rate        1807 non-null   float32            \n",
      " 3   acc_rate         1807 non-null   float32            \n",
      " 4   avg_daily_trips  1807 non-null   int32              \n",
      " 5   created          1807 non-null   datetime64[us]     \n",
      "dtypes: datetime64[ns, UTC](1), datetime64[us](1), float32(2), int32(1), int64(1)\n",
      "memory usage: 63.7 KB\n",
      "None\n"
     ]
    },
    {
     "data": {
      "text/html": [
       "<div>\n",
       "<style scoped>\n",
       "    .dataframe tbody tr th:only-of-type {\n",
       "        vertical-align: middle;\n",
       "    }\n",
       "\n",
       "    .dataframe tbody tr th {\n",
       "        vertical-align: top;\n",
       "    }\n",
       "\n",
       "    .dataframe thead th {\n",
       "        text-align: right;\n",
       "    }\n",
       "</style>\n",
       "<table border=\"1\" class=\"dataframe\">\n",
       "  <thead>\n",
       "    <tr style=\"text-align: right;\">\n",
       "      <th></th>\n",
       "      <th>event_timestamp</th>\n",
       "      <th>driver_id</th>\n",
       "      <th>conv_rate</th>\n",
       "      <th>acc_rate</th>\n",
       "      <th>avg_daily_trips</th>\n",
       "      <th>created</th>\n",
       "    </tr>\n",
       "  </thead>\n",
       "  <tbody>\n",
       "    <tr>\n",
       "      <th>0</th>\n",
       "      <td>2025-07-22 14:00:00+00:00</td>\n",
       "      <td>1005</td>\n",
       "      <td>0.803060</td>\n",
       "      <td>0.440580</td>\n",
       "      <td>397</td>\n",
       "      <td>2025-08-06 14:28:04.645</td>\n",
       "    </tr>\n",
       "    <tr>\n",
       "      <th>1</th>\n",
       "      <td>2025-07-22 15:00:00+00:00</td>\n",
       "      <td>1005</td>\n",
       "      <td>0.247837</td>\n",
       "      <td>0.249946</td>\n",
       "      <td>313</td>\n",
       "      <td>2025-08-06 14:28:04.645</td>\n",
       "    </tr>\n",
       "    <tr>\n",
       "      <th>2</th>\n",
       "      <td>2025-07-22 16:00:00+00:00</td>\n",
       "      <td>1005</td>\n",
       "      <td>0.633390</td>\n",
       "      <td>0.618245</td>\n",
       "      <td>206</td>\n",
       "      <td>2025-08-06 14:28:04.645</td>\n",
       "    </tr>\n",
       "    <tr>\n",
       "      <th>3</th>\n",
       "      <td>2025-07-22 17:00:00+00:00</td>\n",
       "      <td>1005</td>\n",
       "      <td>0.227286</td>\n",
       "      <td>0.701076</td>\n",
       "      <td>600</td>\n",
       "      <td>2025-08-06 14:28:04.645</td>\n",
       "    </tr>\n",
       "    <tr>\n",
       "      <th>4</th>\n",
       "      <td>2025-07-22 18:00:00+00:00</td>\n",
       "      <td>1005</td>\n",
       "      <td>0.595457</td>\n",
       "      <td>0.991147</td>\n",
       "      <td>545</td>\n",
       "      <td>2025-08-06 14:28:04.645</td>\n",
       "    </tr>\n",
       "  </tbody>\n",
       "</table>\n",
       "</div>"
      ],
      "text/plain": [
       "            event_timestamp  driver_id  conv_rate  acc_rate  avg_daily_trips  \\\n",
       "0 2025-07-22 14:00:00+00:00       1005   0.803060  0.440580              397   \n",
       "1 2025-07-22 15:00:00+00:00       1005   0.247837  0.249946              313   \n",
       "2 2025-07-22 16:00:00+00:00       1005   0.633390  0.618245              206   \n",
       "3 2025-07-22 17:00:00+00:00       1005   0.227286  0.701076              600   \n",
       "4 2025-07-22 18:00:00+00:00       1005   0.595457  0.991147              545   \n",
       "\n",
       "                  created  \n",
       "0 2025-08-06 14:28:04.645  \n",
       "1 2025-08-06 14:28:04.645  \n",
       "2 2025-08-06 14:28:04.645  \n",
       "3 2025-08-06 14:28:04.645  \n",
       "4 2025-08-06 14:28:04.645  "
      ]
     },
     "execution_count": 8,
     "metadata": {},
     "output_type": "execute_result"
    }
   ],
   "source": [
    "driver_stats_df = pd.read_parquet(\"data/driver_stats.parquet\")\n",
    "\n",
    "print(driver_stats_df.info())\n",
    "driver_stats_df.head(5)"
   ]
  },
  {
   "cell_type": "markdown",
   "id": "7e8f4f00-e466-479f-98dc-ecbd36a5b354",
   "metadata": {},
   "source": [
    "---\n",
    "# Feature View\n",
    "\n",
    "The core idea of FEAST is, FEAST does NOT store the raw data but **manages how this data is accessed and interpreted**.\n",
    "\n",
    "Feature View is a separation of concern - segregate raw data storage technology and location.\n",
    "\n",
    "## Definition\n",
    "\n",
    "Feature View is defined in ```feature_repo/example_repo.py```.\n",
    "\n",
    "\n",
    "* [Feature view](https://docs.feast.dev/master/getting-started/concepts/feature-view)\n",
    "\n",
    "> In the offline setting, Feature View is a stateless collection of features that are created when the [get_historical_features](https://rtd.feast.dev/en/master/#feast.feature_store.FeatureStore.get_historical_features) method is called.\n",
    "\n"
   ]
  },
  {
   "cell_type": "markdown",
   "id": "ccff0010-3088-4627-bed5-ea1899e7a6fc",
   "metadata": {},
   "source": [
    "### Data Source (FileSource)\n",
    "\n",
    "FEAST way of Encapsulation on where the data is and how to access it."
   ]
  },
  {
   "cell_type": "raw",
   "id": "1a9449b5-7637-4683-b7df-7b024f0716d8",
   "metadata": {},
   "source": [
    "# Read data from parquet files. Parquet is convenient for local development mode. For\n",
    "# production, you can use your favorite DWH, such as BigQuery. See Feast documentation\n",
    "# for more info.\n",
    "driver_hourly_stats = FileSource(\n",
    "    name=\"driver_hourly_stats_source\",\n",
    "    path=\"data/driver_stats.parquet\",\n",
    "    timestamp_field=\"event_timestamp\",\n",
    "    created_timestamp_column=\"created\",\n",
    ")"
   ]
  },
  {
   "cell_type": "markdown",
   "id": "88459cc7-cf63-41d4-a711-0950f605d284",
   "metadata": {},
   "source": [
    "### Raw Features (FeatureView)\n",
    "\n",
    "FEAST way of selecting raw features."
   ]
  },
  {
   "cell_type": "raw",
   "id": "6c34889c-1c4e-49eb-be0b-0470d383af27",
   "metadata": {},
   "source": [
    "# Define an entity for the driver. You can think of an entity as a primary key used to\n",
    "# fetch features.\n",
    "driver = Entity(name=\"driver\", join_keys=[\"driver_id\"])\n",
    "\n",
    "# Our parquet files contain sample data that includes a driver_id column, timestamps and\n",
    "# three feature column. Here we define a Feature View that will allow us to serve this\n",
    "# data to our model online.\n",
    "driver_hourly_stats_view = FeatureView(\n",
    "    # The unique name of this feature view. Two feature views in a single\n",
    "    # project cannot have the same name\n",
    "    name=\"driver_hourly_stats\",\n",
    "    entities=[driver],\n",
    "    ttl=timedelta(days=1),\n",
    "    # The list of features defined below act as a schema to both define features\n",
    "    # for both materialization of features into a store, and are used as references\n",
    "    # during retrieval for building a training dataset or serving features\n",
    "    schema=[\n",
    "        Field(name=\"conv_rate\", dtype=Float32),\n",
    "        Field(name=\"acc_rate\", dtype=Float32),\n",
    "        Field(name=\"avg_daily_trips\", dtype=Int64, description=\"Average daily trips\"),\n",
    "    ],\n",
    "    online=True,\n",
    "    source=driver_hourly_stats,           # <--- Link to the raw data storage technology\n",
    "    # Tags are user defined key/value pairs that are attached to each\n",
    "    # feature view\n",
    "    tags={\"team\": \"driver_performance\"},\n",
    ")"
   ]
  },
  {
   "cell_type": "code",
   "execution_count": 9,
   "id": "da4e8bba-2d57-44e6-8acc-5ba87000f358",
   "metadata": {},
   "outputs": [],
   "source": [
    "#driver_hourly_stats_view"
   ]
  },
  {
   "cell_type": "markdown",
   "id": "1cdf864b-79df-491b-86f9-90feb14cb4a2",
   "metadata": {},
   "source": [
    "## Select Features\n",
    "\n",
    "\n",
    "\n",
    "* [get_historical_features](https://rtd.feast.dev/en/master/#feast.feature_store.FeatureStore.get_historical_features)\n",
    "\n",
    "> This method joins historical feature data from one or more feature views to an entity dataframe by using a time travel join. Each feature view is joined to the entity dataframe using all entities configured for the respective feature view.\n",
    ">\n",
    "> **Parameters**  \n",
    "> * ```entity_df```: a collection of rows containing all entity columns (e.g., driver_id) on which features need to be joined, as well as a event_timestamp column used to ensure point-in-time correctness.\n",
    "> \n",
    "> **Returns**: RetrievalJob which can be used to materialize the results.\n",
    "\n",
    "* [RetrievalJob](https://rtd.feast.dev/en/master/#feast.infra.offline_stores.offline_store.RetrievalJob)\n",
    "\n",
    "> A RetrievalJob manages the execution of a query to retrieve data from the offline store.  \n",
    "> **Methods**  \n",
    "> * [to_df](https://rtd.feast.dev/en/master/#feast.infra.offline_stores.offline_store.RetrievalJob.to_df): \n",
    "> Synchronously executes the underlying query and returns the result as a pandas dataframe. On demand transformations will be executed. "
   ]
  },
  {
   "cell_type": "code",
   "execution_count": 14,
   "id": "7240b52b-c4ae-4926-98bb-d0a97229e148",
   "metadata": {},
   "outputs": [
    {
     "data": {
      "text/plain": [
       "<FeatureService(name = driver_activity_v1, _features = [], feature_view_projections = [FeatureViewProjection(name='driver_hourly_stats', name_alias=None, desired_features=[], features=[Field(\n",
       "    name='conv_rate',\n",
       "    dtype=<PrimitiveFeastType.FLOAT32: 6>,\n",
       "    description='',\n",
       "    tags={}\n",
       "    vector_index=False\n",
       "    vector_length=0\n",
       "    vector_search_metric=''\n",
       "), Field(\n",
       "    name='acc_rate',\n",
       "    dtype=<PrimitiveFeastType.FLOAT32: 6>,\n",
       "    description='',\n",
       "    tags={}\n",
       "    vector_index=False\n",
       "    vector_length=0\n",
       "    vector_search_metric=''\n",
       "), Field(\n",
       "    name='avg_daily_trips',\n",
       "    dtype=<PrimitiveFeastType.INT64: 4>,\n",
       "    description='Average daily trips',\n",
       "    tags={}\n",
       "    vector_index=False\n",
       "    vector_length=0\n",
       "    vector_search_metric=''\n",
       ")], join_key_map={}, timestamp_field='created', date_partition_column=None, created_timestamp_column='created', batch_source=<feast.infra.offline_stores.file_source.FileSource object at 0x1543f7640>)], description = , tags = {}, owner = , created_timestamp = 2025-08-06 04:28:56.368220, last_updated_timestamp = 2025-08-06 06:04:49.549797, logging_config = <feast.feature_logging.LoggingConfig object at 0x1522a0d90>)>"
      ]
     },
     "execution_count": 14,
     "metadata": {},
     "output_type": "execute_result"
    }
   ],
   "source": [
    "driver_stats_fs"
   ]
  },
  {
   "cell_type": "markdown",
   "id": "4cd67210-dd49-4b93-bdb0-fc3fe4b8132c",
   "metadata": {},
   "source": [
    "What is ```event_timestamp``` in ```entity_df```? There is no record in the data source that matches ```(driver_id, event_timestamp)==(1001, datetime(2021, 4, 12, 10, 59, 42))```.\n",
    "\n",
    "* [FEAST Feature Store - What is event_timestamp in entity_df parameter of FeatureStore.get_historical_features method](https://stackoverflow.com/q/79714277/4281353)"
   ]
  },
  {
   "cell_type": "code",
   "execution_count": 22,
   "id": "5212079e-f7fc-4112-935a-0cdf1dcb0568",
   "metadata": {},
   "outputs": [],
   "source": [
    "entity_df = pd.DataFrame.from_dict(\n",
    "    {\n",
    "        \"driver_id\": [1005],\n",
    "        \"event_timestamp\": [\n",
    "            datetime(2021, 5, 13, 10, 59, 42),      # <---- What is this value? Is it used at get_historical_features()?\n",
    "        ],\n",
    "    }\n",
    ")"
   ]
  },
  {
   "cell_type": "code",
   "execution_count": 24,
   "id": "f9bebe50-ee4f-4915-9f1f-47a15ba042fe",
   "metadata": {},
   "outputs": [],
   "source": [
    "entity_df[\"event_timestamp\"] = pd.to_datetime(\"now\", utc=True)\n",
    "training_df = feature_store.get_historical_features(\n",
    "    entity_df=entity_df,\n",
    "    features=[\n",
    "        \"driver_hourly_stats:conv_rate\",\n",
    "        \"driver_hourly_stats:acc_rate\",\n",
    "        \"driver_hourly_stats:avg_daily_trips\",\n",
    "    ],\n",
    ").to_df()"
   ]
  },
  {
   "cell_type": "code",
   "execution_count": 25,
   "id": "f47bd8a4-5ae0-48dc-9ccf-911d7b19fdf3",
   "metadata": {},
   "outputs": [
    {
     "data": {
      "text/html": [
       "<div>\n",
       "<style scoped>\n",
       "    .dataframe tbody tr th:only-of-type {\n",
       "        vertical-align: middle;\n",
       "    }\n",
       "\n",
       "    .dataframe tbody tr th {\n",
       "        vertical-align: top;\n",
       "    }\n",
       "\n",
       "    .dataframe thead th {\n",
       "        text-align: right;\n",
       "    }\n",
       "</style>\n",
       "<table border=\"1\" class=\"dataframe\">\n",
       "  <thead>\n",
       "    <tr style=\"text-align: right;\">\n",
       "      <th></th>\n",
       "      <th>driver_id</th>\n",
       "      <th>event_timestamp</th>\n",
       "      <th>conv_rate</th>\n",
       "      <th>acc_rate</th>\n",
       "      <th>avg_daily_trips</th>\n",
       "    </tr>\n",
       "  </thead>\n",
       "  <tbody>\n",
       "    <tr>\n",
       "      <th>0</th>\n",
       "      <td>1005</td>\n",
       "      <td>2025-08-06 06:16:33.556608+00:00</td>\n",
       "      <td>0.201191</td>\n",
       "      <td>0.067797</td>\n",
       "      <td>208</td>\n",
       "    </tr>\n",
       "  </tbody>\n",
       "</table>\n",
       "</div>"
      ],
      "text/plain": [
       "   driver_id                  event_timestamp  conv_rate  acc_rate  \\\n",
       "0       1005 2025-08-06 06:16:33.556608+00:00   0.201191  0.067797   \n",
       "\n",
       "   avg_daily_trips  \n",
       "0              208  "
      ]
     },
     "execution_count": 25,
     "metadata": {},
     "output_type": "execute_result"
    }
   ],
   "source": [
    "training_df"
   ]
  },
  {
   "cell_type": "code",
   "execution_count": null,
   "id": "769f24fb-748f-483d-b6f8-dff7e6ffcfe4",
   "metadata": {},
   "outputs": [],
   "source": []
  },
  {
   "cell_type": "code",
   "execution_count": 26,
   "id": "d1bc1a43-525b-4757-b74f-05acff7d4e54",
   "metadata": {},
   "outputs": [],
   "source": [
    "driver_stats_fs = feature_store.get_feature_service(\"driver_activity_v1\")\n",
    "\n",
    "feature_vector = feature_store.get_online_features(\n",
    "    features=driver_stats_fs,\n",
    "    entity_rows=[\n",
    "        {\n",
    "            \"driver_id\": 1005,\n",
    "        }\n",
    "    ]\n",
    ").to_df()"
   ]
  },
  {
   "cell_type": "code",
   "execution_count": 27,
   "id": "564c2357-6568-455a-905d-9f4c8f962df5",
   "metadata": {},
   "outputs": [
    {
     "data": {
      "text/html": [
       "<div>\n",
       "<style scoped>\n",
       "    .dataframe tbody tr th:only-of-type {\n",
       "        vertical-align: middle;\n",
       "    }\n",
       "\n",
       "    .dataframe tbody tr th {\n",
       "        vertical-align: top;\n",
       "    }\n",
       "\n",
       "    .dataframe thead th {\n",
       "        text-align: right;\n",
       "    }\n",
       "</style>\n",
       "<table border=\"1\" class=\"dataframe\">\n",
       "  <thead>\n",
       "    <tr style=\"text-align: right;\">\n",
       "      <th></th>\n",
       "      <th>driver_id</th>\n",
       "      <th>avg_daily_trips</th>\n",
       "      <th>conv_rate</th>\n",
       "      <th>acc_rate</th>\n",
       "    </tr>\n",
       "  </thead>\n",
       "  <tbody>\n",
       "    <tr>\n",
       "      <th>0</th>\n",
       "      <td>1005</td>\n",
       "      <td>None</td>\n",
       "      <td>None</td>\n",
       "      <td>None</td>\n",
       "    </tr>\n",
       "  </tbody>\n",
       "</table>\n",
       "</div>"
      ],
      "text/plain": [
       "   driver_id avg_daily_trips conv_rate acc_rate\n",
       "0       1005            None      None     None"
      ]
     },
     "execution_count": 27,
     "metadata": {},
     "output_type": "execute_result"
    }
   ],
   "source": [
    "feature_vector"
   ]
  }
 ],
 "metadata": {
  "kernelspec": {
   "display_name": "Python 3 (ipykernel)",
   "language": "python",
   "name": "python3"
  },
  "language_info": {
   "codemirror_mode": {
    "name": "ipython",
    "version": 3
   },
   "file_extension": ".py",
   "mimetype": "text/x-python",
   "name": "python",
   "nbconvert_exporter": "python",
   "pygments_lexer": "ipython3",
   "version": "3.10.10"
  }
 },
 "nbformat": 4,
 "nbformat_minor": 5
}
